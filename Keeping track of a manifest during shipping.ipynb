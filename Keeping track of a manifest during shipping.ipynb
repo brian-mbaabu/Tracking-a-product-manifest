{
 "cells": [
  {
   "cell_type": "code",
   "execution_count": 2,
   "metadata": {},
   "outputs": [
    {
     "name": "stdout",
     "output_type": "stream",
     "text": [
      "current weight: 0\n",
      " adding fertilizers 15\n",
      "current weight: 15\n",
      " adding insecticides 21\n",
      "current weight: 36\n",
      " adding aerosols 25\n",
      "current weight: 61\n",
      " adding detergent 35\n",
      "current weight: 96\n",
      "current weight: 96\n",
      "\n",
      "Final list:['fertilizers', 'insecticides', 'aerosols', 'detergent']\n",
      "Final weight:96\n"
     ]
    }
   ],
   "source": [
    "manifest = [(\"fertilizers\", 15), (\"insecticides\", 21), (\"aerosols\", 25), (\"detergent\", 35), (\"machines\", 120), (\"sanitizers\", 5)]\n",
    "items = []\n",
    "weight = 0\n",
    "\n",
    "for cargo, cargo_weight in manifest:\n",
    "    print(f\"current weight: {weight}\")\n",
    "    if weight >= 100:\n",
    "        break\n",
    "    elif weight + cargo_weight > 100:\n",
    "        continue   \n",
    "    else:\n",
    "        print(f\" adding {cargo} {cargo_weight}\")\n",
    "        items.append(cargo)\n",
    "        weight += cargo_weight\n",
    "        \n",
    "print(f\"\\nFinal list:{items}\") \n",
    "print(f'Final weight:{weight}')"
   ]
  },
  {
   "cell_type": "code",
   "execution_count": null,
   "metadata": {},
   "outputs": [],
   "source": []
  }
 ],
 "metadata": {
  "kernelspec": {
   "display_name": "Python 3",
   "language": "python",
   "name": "python3"
  },
  "language_info": {
   "codemirror_mode": {
    "name": "ipython",
    "version": 3
   },
   "file_extension": ".py",
   "mimetype": "text/x-python",
   "name": "python",
   "nbconvert_exporter": "python",
   "pygments_lexer": "ipython3",
   "version": "3.7.6"
  }
 },
 "nbformat": 4,
 "nbformat_minor": 4
}
